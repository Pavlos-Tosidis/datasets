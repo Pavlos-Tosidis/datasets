{
 "cells": [
  {
   "cell_type": "code",
   "execution_count": null,
   "metadata": {},
   "outputs": [],
   "source": [
    "import sys\n",
    "# TODO: these shouldn't be necessary if all installations are correct\n",
    "sys.path.append('/home/administrator/opendr_datasets/src')\n",
    "sys.path.append('/home/administrator/opendr/src')\n",
    "from opendr_datasets import AGIHumans\n",
    "\n",
    "dataset = AGIHumans('/home/administrator/data/agi_human_data')\n",
    "print(dataset)"
   ]
  },
  {
   "cell_type": "code",
   "execution_count": null,
   "metadata": {
    "pycharm": {
     "name": "#%%\n",
     "is_executing": true
    }
   },
   "outputs": [],
   "source": [
    "from opendr.perception.object_detection_2d import draw_bounding_boxes\n",
    "import matplotlib.pyplot as plt\n",
    "%matplotlib inline\n",
    "\n",
    "for (img, targets) in dataset:\n",
    "    img = draw_bounding_boxes(img.opencv(), targets, class_names=dataset.classes)\n",
    "    plt.imshow(img[:, :, [2, 0, 1]])\n",
    "    plt.show()"
   ]
  },
  {
   "cell_type": "code",
   "execution_count": null,
   "metadata": {
    "pycharm": {
     "is_executing": true
    }
   },
   "outputs": [],
   "source": []
  }
 ],
 "metadata": {
  "kernelspec": {
   "name": "python3",
   "language": "python",
   "display_name": "Python 3"
  },
  "language_info": {
   "codemirror_mode": {
    "name": "ipython",
    "version": 3
   },
   "file_extension": ".py",
   "mimetype": "text/x-python",
   "name": "python",
   "nbconvert_exporter": "python",
   "pygments_lexer": "ipython3",
   "version": "3.8.10"
  }
 },
 "nbformat": 4,
 "nbformat_minor": 1
}